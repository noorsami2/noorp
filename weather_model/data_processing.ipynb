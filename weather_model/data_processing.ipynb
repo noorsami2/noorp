{
 "cells": [
  {
   "cell_type": "code",
   "execution_count": 26,
   "metadata": {},
   "outputs": [],
   "source": [
    "import os\n",
    "import pandas as pd\n"
   ]
  },
  {
   "cell_type": "code",
   "execution_count": 47,
   "metadata": {},
   "outputs": [],
   "source": [
    "base_path = r'C:\\Users\\zico2m\\Desktop\\projectzico'"
   ]
  },
  {
   "cell_type": "code",
   "execution_count": 48,
   "metadata": {},
   "outputs": [],
   "source": [
    "city_attributes = pd.read_csv(f'{base_path}\\city_attributes.csv')\n",
    "humidity_chunksize = 10000  # حجم الشريحة الذي سيتم تحميله في الذاكرة\n",
    "pressure_chunksize = 10000  # حجم الشريحة لملف الضغط\n",
    "weather_description_chunksize = 10000  # حجم الشريحة لوصف الطقس\n",
    "temperature_chunksize = 10000  # حجم الشريحة لملف درجة الحرارة\n",
    "wind_direction_chunksize = 10000  # حجم الشريحة لملف اتجاه الرياح\n"
   ]
  },
  {
   "cell_type": "code",
   "execution_count": 49,
   "metadata": {},
   "outputs": [],
   "source": [
    "humidity_chunks = pd.read_csv(f'{base_path}/humidity.csv', chunksize=humidity_chunksize)\n",
    "pressure_chunks = pd.read_csv(f'{base_path}/pressure.csv', chunksize=pressure_chunksize)\n",
    "weather_description_chunks = pd.read_csv(f'{base_path}/weather_description.csv', chunksize=weather_description_chunksize)\n",
    "temperature_chunks = pd.read_csv(f'{base_path}/temperature.csv', chunksize=temperature_chunksize)\n",
    "wind_direction_chunks = pd.read_csv(f'{base_path}/wind_direction.csv', chunksize=wind_direction_chunksize)"
   ]
  },
  {
   "cell_type": "code",
   "execution_count": 50,
   "metadata": {},
   "outputs": [
    {
     "data": {
      "text/html": [
       "<div>\n",
       "<style scoped>\n",
       "    .dataframe tbody tr th:only-of-type {\n",
       "        vertical-align: middle;\n",
       "    }\n",
       "\n",
       "    .dataframe tbody tr th {\n",
       "        vertical-align: top;\n",
       "    }\n",
       "\n",
       "    .dataframe thead th {\n",
       "        text-align: right;\n",
       "    }\n",
       "</style>\n",
       "<table border=\"1\" class=\"dataframe\">\n",
       "  <thead>\n",
       "    <tr style=\"text-align: right;\">\n",
       "      <th></th>\n",
       "      <th>City</th>\n",
       "      <th>Country</th>\n",
       "      <th>Latitude</th>\n",
       "      <th>Longitude</th>\n",
       "    </tr>\n",
       "  </thead>\n",
       "  <tbody>\n",
       "    <tr>\n",
       "      <th>0</th>\n",
       "      <td>Vancouver</td>\n",
       "      <td>Canada</td>\n",
       "      <td>49.249660</td>\n",
       "      <td>-123.119339</td>\n",
       "    </tr>\n",
       "    <tr>\n",
       "      <th>1</th>\n",
       "      <td>Portland</td>\n",
       "      <td>United States</td>\n",
       "      <td>45.523449</td>\n",
       "      <td>-122.676208</td>\n",
       "    </tr>\n",
       "    <tr>\n",
       "      <th>2</th>\n",
       "      <td>San Francisco</td>\n",
       "      <td>United States</td>\n",
       "      <td>37.774929</td>\n",
       "      <td>-122.419418</td>\n",
       "    </tr>\n",
       "    <tr>\n",
       "      <th>3</th>\n",
       "      <td>Seattle</td>\n",
       "      <td>United States</td>\n",
       "      <td>47.606209</td>\n",
       "      <td>-122.332069</td>\n",
       "    </tr>\n",
       "    <tr>\n",
       "      <th>4</th>\n",
       "      <td>Los Angeles</td>\n",
       "      <td>United States</td>\n",
       "      <td>34.052231</td>\n",
       "      <td>-118.243683</td>\n",
       "    </tr>\n",
       "  </tbody>\n",
       "</table>\n",
       "</div>"
      ],
      "text/plain": [
       "            City        Country   Latitude   Longitude\n",
       "0      Vancouver         Canada  49.249660 -123.119339\n",
       "1       Portland  United States  45.523449 -122.676208\n",
       "2  San Francisco  United States  37.774929 -122.419418\n",
       "3        Seattle  United States  47.606209 -122.332069\n",
       "4    Los Angeles  United States  34.052231 -118.243683"
      ]
     },
     "execution_count": 50,
     "metadata": {},
     "output_type": "execute_result"
    }
   ],
   "source": [
    "df = city_attributes.head()\n",
    "df"
   ]
  },
  {
   "cell_type": "code",
   "execution_count": 51,
   "metadata": {},
   "outputs": [
    {
     "name": "stdout",
     "output_type": "stream",
     "text": [
      "             datetime       City  Humidity  Pressure Weather_Description  \\\n",
      "0 2012-10-01 12:00:00  Vancouver       NaN       NaN                 NaN   \n",
      "1 2012-10-01 13:00:00  Vancouver      76.0       NaN                 NaN   \n",
      "2 2012-10-01 14:00:00  Vancouver      76.0       NaN                 NaN   \n",
      "3 2012-10-01 15:00:00  Vancouver      76.0       NaN                 NaN   \n",
      "4 2012-10-01 16:00:00  Vancouver      77.0       NaN                 NaN   \n",
      "\n",
      "   Temperature  Wind_Direction  \n",
      "0          NaN             NaN  \n",
      "1          NaN             NaN  \n",
      "2          NaN             NaN  \n",
      "3          NaN             NaN  \n",
      "4          NaN             NaN  \n"
     ]
    }
   ],
   "source": [
    "df = pd.DataFrame()\n",
    "\n",
    "# معالجة كل كتلة من البيانات بشكل منفصل\n",
    "for chunk in humidity_chunks:\n",
    "    chunk = chunk.melt(id_vars=['datetime'], var_name='City', value_name='Humidity')\n",
    "    df = pd.concat([df, chunk], ignore_index=True)\n",
    "\n",
    "for chunk in pressure_chunks:\n",
    "    chunk = chunk.melt(id_vars=['datetime'], var_name='City', value_name='Pressure')\n",
    "    df = pd.concat([df, chunk], ignore_index=True)\n",
    "\n",
    "for chunk in weather_description_chunks:\n",
    "    chunk = chunk.melt(id_vars=['datetime'], var_name='City', value_name='Weather_Description')\n",
    "    df = pd.concat([df, chunk], ignore_index=True)\n",
    "\n",
    "for chunk in temperature_chunks:\n",
    "    chunk = chunk.melt(id_vars=['datetime'], var_name='City', value_name='Temperature')\n",
    "    df = pd.concat([df, chunk], ignore_index=True)\n",
    "\n",
    "for chunk in wind_direction_chunks:\n",
    "    chunk = chunk.melt(id_vars=['datetime'], var_name='City', value_name='Wind_Direction')\n",
    "    df = pd.concat([df, chunk], ignore_index=True)\n",
    "\n",
    "# تحويل العمود 'datetime' إلى نوع البيانات المناسب\n",
    "df['datetime'] = pd.to_datetime(df['datetime'], errors='coerce')\n",
    "\n",
    "# تحويل الأعمدة 'City' إلى نوع 'category' لتقليل استخدام الذاكرة\n",
    "df['City'] = df['City'].astype('category')\n",
    "\n",
    "# حفظ البيانات المدمجة في ملف CSV مؤقت\n",
    "df.to_csv(f'{base_path}/merged_data.csv', index=False)\n",
    "\n",
    "# عرض أول 5 صفوف من البيانات المدمجة\n",
    "print(df.head())"
   ]
  },
  {
   "cell_type": "code",
   "execution_count": 52,
   "metadata": {},
   "outputs": [
    {
     "name": "stdout",
     "output_type": "stream",
     "text": [
      "<class 'pandas.core.frame.DataFrame'>\n",
      "RangeIndex: 8145540 entries, 0 to 8145539\n",
      "Data columns (total 7 columns):\n",
      " #   Column               Dtype         \n",
      "---  ------               -----         \n",
      " 0   datetime             datetime64[ns]\n",
      " 1   City                 category      \n",
      " 2   Humidity             float64       \n",
      " 3   Pressure             float64       \n",
      " 4   Weather_Description  object        \n",
      " 5   Temperature          float64       \n",
      " 6   Wind_Direction       float64       \n",
      "dtypes: category(1), datetime64[ns](1), float64(4), object(1)\n",
      "memory usage: 380.6+ MB\n",
      "None\n",
      "             datetime       City  Humidity  Pressure Weather_Description  \\\n",
      "0 2012-10-01 12:00:00  Vancouver       NaN       NaN                 NaN   \n",
      "1 2012-10-01 13:00:00  Vancouver      76.0       NaN                 NaN   \n",
      "2 2012-10-01 14:00:00  Vancouver      76.0       NaN                 NaN   \n",
      "3 2012-10-01 15:00:00  Vancouver      76.0       NaN                 NaN   \n",
      "4 2012-10-01 16:00:00  Vancouver      77.0       NaN                 NaN   \n",
      "\n",
      "   Temperature  Wind_Direction  \n",
      "0          NaN             NaN  \n",
      "1          NaN             NaN  \n",
      "2          NaN             NaN  \n",
      "3          NaN             NaN  \n",
      "4          NaN             NaN  \n"
     ]
    }
   ],
   "source": [
    "# فحص البيانات المدمجة\n",
    "print(df.info())\n",
    "print(df.head())\n"
   ]
  },
  {
   "cell_type": "code",
   "execution_count": 53,
   "metadata": {},
   "outputs": [
    {
     "name": "stdout",
     "output_type": "stream",
     "text": [
      "datetime                     0\n",
      "City                         0\n",
      "Humidity               6545083\n",
      "Pressure               6533112\n",
      "Weather_Description    6524387\n",
      "Temperature            6524462\n",
      "Wind_Direction         6524407\n",
      "dtype: int64\n"
     ]
    }
   ],
   "source": [
    "# التحقق من القيم المفقودة\n",
    "print(df.isnull().sum())\n"
   ]
  },
  {
   "cell_type": "code",
   "execution_count": 54,
   "metadata": {},
   "outputs": [],
   "source": [
    "df.dropna(inplace=True)  # إزالة الصفوف التي تحتوي على قيم مفقودة\n"
   ]
  },
  {
   "cell_type": "code",
   "execution_count": 55,
   "metadata": {},
   "outputs": [
    {
     "name": "stdout",
     "output_type": "stream",
     "text": [
      "       Humidity  Pressure  Temperature  Wind_Direction\n",
      "count       0.0       0.0          0.0             0.0\n",
      "mean        NaN       NaN          NaN             NaN\n",
      "std         NaN       NaN          NaN             NaN\n",
      "min         NaN       NaN          NaN             NaN\n",
      "25%         NaN       NaN          NaN             NaN\n",
      "50%         NaN       NaN          NaN             NaN\n",
      "75%         NaN       NaN          NaN             NaN\n",
      "max         NaN       NaN          NaN             NaN\n"
     ]
    }
   ],
   "source": [
    "print(df.describe())\n"
   ]
  },
  {
   "cell_type": "code",
   "execution_count": null,
   "metadata": {},
   "outputs": [
    {
     "name": "stdout",
     "output_type": "stream",
     "text": [
      "Index(['datetime', 'Vancouver', 'Portland', 'San Francisco', 'Seattle',\n",
      "       'Los Angeles', 'San Diego', 'Las Vegas', 'Phoenix', 'Albuquerque',\n",
      "       'Denver', 'San Antonio', 'Dallas', 'Houston', 'Kansas City',\n",
      "       'Minneapolis', 'Saint Louis', 'Chicago', 'Nashville', 'Indianapolis',\n",
      "       'Atlanta', 'Detroit', 'Jacksonville', 'Charlotte', 'Miami',\n",
      "       'Pittsburgh', 'Toronto', 'Philadelphia', 'New York', 'Montreal',\n",
      "       'Boston', 'Beersheba', 'Tel Aviv District', 'Eilat', 'Haifa',\n",
      "       'Nahariyya', 'Jerusalem'],\n",
      "      dtype='object')\n"
     ]
    }
   ],
   "source": [
    "print(df.columns)\n"
   ]
  },
  {
   "cell_type": "code",
   "execution_count": null,
   "metadata": {},
   "outputs": [],
   "source": []
  },
  {
   "cell_type": "code",
   "execution_count": null,
   "metadata": {},
   "outputs": [],
   "source": []
  }
 ],
 "metadata": {
  "kernelspec": {
   "display_name": "base",
   "language": "python",
   "name": "python3"
  },
  "language_info": {
   "codemirror_mode": {
    "name": "ipython",
    "version": 3
   },
   "file_extension": ".py",
   "mimetype": "text/x-python",
   "name": "python",
   "nbconvert_exporter": "python",
   "pygments_lexer": "ipython3",
   "version": "3.9.7"
  }
 },
 "nbformat": 4,
 "nbformat_minor": 2
}
